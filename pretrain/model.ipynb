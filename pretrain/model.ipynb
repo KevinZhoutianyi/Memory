{
 "cells": [
  {
   "cell_type": "code",
   "execution_count": 1,
   "metadata": {},
   "outputs": [],
   "source": [
    "\n",
    "from cProfile import label\n",
    "import os\n",
    "import random\n",
    "import numpy as np\n",
    "import gc\n",
    "import copy\n",
    "from transformers import  T5ForConditionalGeneration\n",
    "from transformers import T5Tokenizer\n",
    "import torch\n",
    "import torch.nn as nn\n",
    "import torch.nn.functional as F\n",
    "from hyper import *\n",
    "import logging\n",
    "import torch\n",
    "from utils import *\n",
    "from torch.autograd import Variable\n"
   ]
  },
  {
   "cell_type": "code",
   "execution_count": 2,
   "metadata": {},
   "outputs": [],
   "source": [
    "class Model_wrapper(torch.nn.Module):\n",
    "    def __init__(self,model,hs=512):\n",
    "        super(Model_wrapper,self).__init__()\n",
    "        self.model = model.cuda()\n",
    "        for k in self.model.parameters():\n",
    "            k.requires_grad=False\n",
    "        self.encoder = self.model.encoder\n",
    "        self.decoder = self.model.decoder\n",
    "        self.lm_head = self.model.lm_head\n",
    "        self.mem =  nn.Parameter(torch.rand((1,hs),device='cuda',requires_grad=True))\n",
    "    def forward(self,x,x_attn,labels,labels_attn):\n",
    "        en_out = self.encoder(x,x_attn)[0]\n",
    "        temp = self.mem.repeat(x.shape[0],1,1)\n",
    "        en_out_new = torch.hstack((en_out,temp)) \n",
    "        decoder_input_ids = shift_right(labels)\n",
    "        decoder_outputs = self.decoder(\n",
    "                    input_ids=decoder_input_ids,\n",
    "                    attention_mask=labels_attn,\n",
    "                    encoder_hidden_states=en_out_new\n",
    "                )\n",
    "        sequence_output  = decoder_outputs[0]\n",
    "        lm_logits = self.lm_head(sequence_output)\n",
    "        return lm_logits\n",
    "\n",
    "        \n"
   ]
  },
  {
   "cell_type": "code",
   "execution_count": null,
   "metadata": {},
   "outputs": [],
   "source": []
  }
 ],
 "metadata": {
  "kernelspec": {
   "display_name": "Python 3.8.12 ('python38')",
   "language": "python",
   "name": "python3"
  },
  "language_info": {
   "codemirror_mode": {
    "name": "ipython",
    "version": 3
   },
   "file_extension": ".py",
   "mimetype": "text/x-python",
   "name": "python",
   "nbconvert_exporter": "python",
   "pygments_lexer": "ipython3",
   "version": "3.8.12"
  },
  "orig_nbformat": 4,
  "vscode": {
   "interpreter": {
    "hash": "2d33c3b0ef123e851f98887a8750ca7da758e4ff258891935cfe6ff9c0394387"
   }
  }
 },
 "nbformat": 4,
 "nbformat_minor": 2
}
